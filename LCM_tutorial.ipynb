{
 "cells": [
  {
   "cell_type": "markdown",
   "metadata": {},
   "source": [
    "# Latent cause model of associative learning\n",
    "## Python implementation"
   ]
  },
  {
   "cell_type": "markdown",
   "metadata": {},
   "source": [
    "First, simulate same data. X is a matrix in which rows are trials and columns are features. <br/>\n",
    "The first column is the US, 2nd to last columns are CS (features).<br/>\n",
    "All of them have to be binary (for the present implementation)."
   ]
  },
  {
   "cell_type": "code",
   "execution_count": 2,
   "metadata": {},
   "outputs": [
    {
     "name": "stdout",
     "output_type": "stream",
     "text": [
      "[[0 1 0 0]\n",
      " [0 0 1 1]\n",
      " [1 1 0 1]\n",
      " [0 0 0 0]\n",
      " [0 0 1 0]\n",
      " [1 1 1 1]\n",
      " [0 1 0 1]\n",
      " [0 1 0 0]\n",
      " [0 0 0 0]\n",
      " [0 0 0 0]\n",
      " [0 1 1 0]\n",
      " [0 0 0 1]\n",
      " [0 0 0 0]\n",
      " [0 0 0 0]\n",
      " [1 0 0 1]\n",
      " [1 1 0 0]\n",
      " [0 0 1 1]\n",
      " [0 1 1 1]\n",
      " [1 0 0 1]\n",
      " [0 0 1 1]\n",
      " [0 0 1 0]\n",
      " [0 1 1 0]\n",
      " [0 0 1 0]\n",
      " [1 1 1 0]\n",
      " [1 0 1 0]\n",
      " [1 1 1 0]\n",
      " [0 0 0 0]\n",
      " [1 0 0 1]\n",
      " [0 0 1 1]\n",
      " [1 1 1 1]]\n"
     ]
    }
   ],
   "source": [
    "import numpy as np\n",
    "\n",
    "n_trial = 30\n",
    "n_features = 4\n",
    "X = np.random.randint(0,2,(n_trial, n_features))\n",
    "print(X)"
   ]
  },
  {
   "cell_type": "markdown",
   "metadata": {},
   "source": [
    "CR is a vector of conditioned responses to the trials. This could be ratings, SCR, pupil dilation, etc."
   ]
  },
  {
   "cell_type": "code",
   "execution_count": 3,
   "metadata": {},
   "outputs": [],
   "source": [
    "CR = np.random.randn( 30,1 )"
   ]
  },
  {
   "cell_type": "markdown",
   "metadata": {},
   "source": [
    "There is a few options that can be given for the actual algorithm.<br/>\n",
    "Among them the number of particles and max number of potential causes:"
   ]
  },
  {
   "cell_type": "code",
   "execution_count": 4,
   "metadata": {},
   "outputs": [],
   "source": [
    "opts = { \n",
    "    'n_particles': 100,\n",
    "    'max_cause': 100\n",
    "}"
   ]
  },
  {
   "cell_type": "markdown",
   "metadata": {},
   "source": [
    "Now we import the needed class from LCM.py"
   ]
  },
  {
   "cell_type": "code",
   "execution_count": 5,
   "metadata": {},
   "outputs": [],
   "source": [
    "from LCM import LCM_gridsearch"
   ]
  },
  {
   "cell_type": "markdown",
   "metadata": {},
   "source": [
    "Initialize instance using the features and options.<br/>\n",
    "Additional options are used for the fitting procedure, not the actual algorithm. E.g. the resolution for the grid search."
   ]
  },
  {
   "cell_type": "code",
   "execution_count": 8,
   "metadata": {},
   "outputs": [],
   "source": [
    "p = LCM_gridsearch(CR,X,opts=opts)"
   ]
  },
  {
   "cell_type": "markdown",
   "metadata": {},
   "source": [
    "Loop over potential values of alpha, compute the algorithm for each value."
   ]
  },
  {
   "cell_type": "code",
   "execution_count": 9,
   "metadata": {},
   "outputs": [],
   "source": [
    "p.loop_alpha()"
   ]
  },
  {
   "cell_type": "markdown",
   "metadata": {},
   "source": [
    "Now for some inference. Compute posterior over alpha grid, expected alpha given posterior and log BF of full alpha range against alpha = 0.<br/>\n",
    "Note that the procedure as implemented assumes an uniform prior over alpha."
   ]
  },
  {
   "cell_type": "code",
   "execution_count": 10,
   "metadata": {},
   "outputs": [],
   "source": [
    "out = p.inference()"
   ]
  },
  {
   "cell_type": "code",
   "execution_count": 11,
   "metadata": {},
   "outputs": [
    {
     "data": {
      "text/plain": [
       "{'P': array([[0.0230141 ],\n",
       "        [0.02125046],\n",
       "        [0.02140812],\n",
       "        [0.02125143],\n",
       "        [0.02083616],\n",
       "        [0.02109846],\n",
       "        [0.02111743],\n",
       "        [0.02066899],\n",
       "        [0.02092292],\n",
       "        [0.02057353],\n",
       "        [0.02060556],\n",
       "        [0.02015785],\n",
       "        [0.02046423],\n",
       "        [0.02027908],\n",
       "        [0.02013509],\n",
       "        [0.01982113],\n",
       "        [0.01988606],\n",
       "        [0.01988796],\n",
       "        [0.01993458],\n",
       "        [0.01992929],\n",
       "        [0.01998149],\n",
       "        [0.02014752],\n",
       "        [0.01978369],\n",
       "        [0.01990613],\n",
       "        [0.01987613],\n",
       "        [0.01986429],\n",
       "        [0.01991852],\n",
       "        [0.01959481],\n",
       "        [0.01988867],\n",
       "        [0.01960729],\n",
       "        [0.01944533],\n",
       "        [0.01971451],\n",
       "        [0.01957561],\n",
       "        [0.01959807],\n",
       "        [0.01951657],\n",
       "        [0.01952057],\n",
       "        [0.01953591],\n",
       "        [0.01971155],\n",
       "        [0.01939751],\n",
       "        [0.0191906 ],\n",
       "        [0.019345  ],\n",
       "        [0.01926342],\n",
       "        [0.01933403],\n",
       "        [0.01944397],\n",
       "        [0.01955943],\n",
       "        [0.01949124],\n",
       "        [0.01911369],\n",
       "        [0.01916513],\n",
       "        [0.01921097],\n",
       "        [0.0190559 ]]),\n",
       " 'alpha': array([4.90414816]),\n",
       " 'logBF': array([[-0.14037464]])}"
      ]
     },
     "execution_count": 11,
     "metadata": {},
     "output_type": "execute_result"
    }
   ],
   "source": [
    "out"
   ]
  },
  {
   "cell_type": "markdown",
   "metadata": {},
   "source": [
    "That's pretty much it."
   ]
  }
 ],
 "metadata": {
  "kernelspec": {
   "display_name": "Python [conda env:fg_analysis] *",
   "language": "python",
   "name": "conda-env-fg_analysis-py"
  },
  "language_info": {
   "codemirror_mode": {
    "name": "ipython",
    "version": 3
   },
   "file_extension": ".py",
   "mimetype": "text/x-python",
   "name": "python",
   "nbconvert_exporter": "python",
   "pygments_lexer": "ipython3",
   "version": "3.7.2"
  }
 },
 "nbformat": 4,
 "nbformat_minor": 2
}
